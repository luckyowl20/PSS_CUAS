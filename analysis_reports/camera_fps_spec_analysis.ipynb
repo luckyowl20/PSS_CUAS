{
 "cells": [
  {
   "cell_type": "markdown",
   "id": "c92504ff",
   "metadata": {},
   "source": [
    "# Computer Vision Feasibility Analysis\n",
    "## *Framerate and Camera Requirements*\n",
    "*Matt Schneider 10/6/25*"
   ]
  },
  {
   "cell_type": "markdown",
   "id": "42620ff6",
   "metadata": {},
   "source": [
    "### Calculating required FPS\n",
    "\n",
    "To determine how fast of a refresh rate our camera must have for good tracking results, we need to be able to set some requirements on how fast the target must move and how much inter-frame motion we allow. Similarly, we need to put limits on the blur for reliable centrioding or position estimation in the frame.\n",
    "\n",
    "The drones lateral motion can be translated into an angular rate to determine its angular rate in pixels. Given the drone is moving lateraly to the camera, the angluar rate is given by:\n",
    "\n",
    "$$\n",
    "\\omega \\approx \\frac{v_\\bot}{R}\n",
    "$$\n",
    "\n",
    "Where $v_\\bot$ is the drones lateral velocity in meters per second, and $R$ is the range. Then the pixel rate $\\dot{p}$ is given by:\n",
    "\n",
    "$$\n",
    "\\dot{p} = \\omega \\cdot \\frac{N_{px}}{FOV_{rad}}\n",
    "$$\n",
    "\n",
    "We want the FPS of the camera to be greater than the ratio of $\\frac{\\dot{p}}{p_{max}}$ where $p_{max}$ is the allowable inter frame motion. I will be aiming to have no more than 5 pixels of inter frame motion for the following analysis. ($N_{px}$ is the width of the image in pixels)\n",
    "\n",
    "For blur, we want the drone to move no more than 1 pixel over the time it takes for 1 frame to be captured (exposure time). This means we want our exposure time to be roughly less than $\\frac{1}{\\dot{p}}$.\n",
    "\n",
    "I will model the drone being targeted as a DJI phantom 3 flying at 15 m/s, which is roughly 50cm across."
   ]
  },
  {
   "cell_type": "markdown",
   "id": "31c21e83",
   "metadata": {},
   "source": [
    "#### Plugging in the numbers\n",
    "\n",
    "First angular rate at our target distance of 500ft (152m) at velocity of 15m/s\n",
    "\n",
    "$$\n",
    "\\omega \\approx \\frac{15}{152} \\approx 0.09868 \\text{ rad/s}\n",
    "$$\n",
    "\n",
    "Using $p_{max} = 5$ px and for this specific calculation we use a image size of 1920 and a FOV of $60$° or 1.0472 rad:\n",
    "\n",
    "$$\n",
    "\\dot p = 0.09868 \\cdot \\frac{1920}{1.0472} = 180.9336 \\text{ px/sec}\n",
    "$$\n",
    "\n",
    "Then to calculate desired FPS:\n",
    "\n",
    "$$\n",
    "\\text{FPS} \\ge \\frac{180.9336}{5} = 36.1867 \n",
    "$$\n",
    "\n",
    "Now to calculate exposure time per frame to have as little blur as possible\n",
    "\n",
    "$$\n",
    "\\text{exposure time} = \\frac{1}{180.9336} = 0.0055269 \\text{ sec} = 5.52689 \\text{ ms}\n",
    "$$\n",
    "\n",
    "This is likely a reasonable target for us to reach if we can actually have the needed number of pixels for using our tracking and detection algorithms at this 500ft distance using a wide $60$° FOV lens. This wide of a FOV is likely not possible to give us the apparent size we need to run our algorithms to be able to detect and then track the drone. But at least our FPS requirements are something within reasonable specs for camera modules that are not specialty sensors."
   ]
  },
  {
   "cell_type": "markdown",
   "id": "4f343641",
   "metadata": {},
   "source": [
    "#### Script for calculating FPS based on camera specs\n",
    "\n",
    "All code for the `CameraClassifier` class is on [our GitHub](https://github.com/luckyowl20/PSS_CUAS/blob/master/CameraClassifier.py). This notebook is also on there."
   ]
  },
  {
   "cell_type": "code",
   "execution_count": 20,
   "id": "54427cba",
   "metadata": {},
   "outputs": [],
   "source": [
    "# helper code\n",
    "import numpy as np\n",
    "\n",
    "# homemade camera classifier class\n",
    "from CameraClassifier import Camera\n",
    "\n",
    "def ftom(feet):\n",
    "    return feet * 0.3048"
   ]
  },
  {
   "cell_type": "code",
   "execution_count": 21,
   "id": "19364dc4",
   "metadata": {},
   "outputs": [
    {
     "name": "stdout",
     "output_type": "stream",
     "text": [
      "Analysis for: demo cam at 5.0 mm lens\n",
      "             FPS  Exposure Time (ms)   HFOV  Apparent Size (px)\n",
      "Size (px)                                                      \n",
      "1920       36.16                5.53  59.88                5.47\n"
     ]
    }
   ],
   "source": [
    "# numbers to match the above calculations\n",
    "p_um = 3.0\n",
    "f_mm = 5.0\n",
    "sizes = [1920]\n",
    "range = ftom(500)\n",
    "velocity = 15.0\n",
    "p_max = 5.0\n",
    "object_size = 0.5\n",
    "\n",
    "camera = Camera(\"demo cam\", sizes, p_um, f_mm, p_max)\n",
    "results = camera.run_analysis(velocity, range, object_size, print_results=True)"
   ]
  },
  {
   "cell_type": "markdown",
   "id": "e9421a70",
   "metadata": {},
   "source": [
    "### An analysis of some camera modules that we may use\n",
    "Cameras in order of analysis:\n",
    "1. [Tech Nation: VLS-GM2-AR1335-C-CB-IR](https://www.technexion.com/shop/serdes/gmsl/gmsl2/vls-gm2-ar1335-c-cb-ir/) these sit around $100 without lenses\n",
    "\n",
    "2. *these will not be cheap* [NileCAM82 - Sony® STARVIS™ IMX485 4K GMSL2 Camera Module](https://www.e-consystems.com/camera-modules/sony-starvis-imx485-4k-gmsl2-camera-module.asp)\n",
    "\n",
    "3. *these will not be cheap* [NileCAM87_CUOAGX](https://www.e-consystems.com/nvidia-cameras/jetson-agx-orin-cameras/4k-sony-starvis2-imx585-gmsl-camera.asp) Datasheets on this sensor are extremely limited and will need further research."
   ]
  },
  {
   "cell_type": "code",
   "execution_count": 22,
   "id": "9920152c",
   "metadata": {},
   "outputs": [
    {
     "name": "stdout",
     "output_type": "stream",
     "text": [
      "Analysis for: cam 1 at 6.0 mm lens\n",
      "              FPS  Exposure Time (ms)   HFOV  Apparent Size (px)\n",
      "Size (px)                                                       \n",
      "1920       108.47                1.84  19.96                17.9\n",
      "2560       109.32                1.83  26.41                17.9\n",
      "3480       110.92                1.80  35.39                17.9\n",
      "4208       112.50                1.78  42.19                17.9\n"
     ]
    }
   ],
   "source": [
    "# analysis for camera 1\n",
    "# https://www.technexion.com/shop/serdes/gmsl/gmsl2/vls-gm2-ar1335-c-cb-ir/\n",
    "import pandas as pd\n",
    "\n",
    "# FPS for these sizes:\n",
    "# 60, 30, 15, 10\n",
    "sizes = [1920, 2560, 3480, 4208]\n",
    "\n",
    "p_um = 1.1\n",
    "f_mm = 6.0\n",
    "range = ftom(500)\n",
    "velocity = 15.0\n",
    "p_max = 5.0\n",
    "object_size = 0.5\n",
    "\n",
    "camera = Camera(\"cam 1\", sizes, p_um, f_mm, p_max)\n",
    "results = camera.run_analysis(velocity, range, object_size, print_results=True)"
   ]
  },
  {
   "cell_type": "markdown",
   "id": "d646b29d",
   "metadata": {},
   "source": [
    "#### Results from camera 1\n",
    "Since this camera's fastest frame rate is 60 fps at the 1920x1080 image size, this camera cannot deal with our requirements unless we seriously change the FOV to something wider."
   ]
  },
  {
   "cell_type": "code",
   "execution_count": 23,
   "id": "aaabe6ef",
   "metadata": {},
   "outputs": [
    {
     "name": "stdout",
     "output_type": "stream",
     "text": [
      "Analysis for: cam 2 at 6.0 mm lens\n",
      "             FPS  Exposure Time (ms)   HFOV  Apparent Size (px)\n",
      "Size (px)                                                      \n",
      "1920       43.50                4.60  49.78                6.79\n",
      "3840       50.52                3.96  85.72                6.79\n"
     ]
    }
   ],
   "source": [
    "# analysis from camera 2 \n",
    "# https://www.e-consystems.com/camera-modules/sony-starvis-imx485-4k-gmsl2-camera-module.asp\n",
    "\n",
    "# supported FPS: 62, 39\n",
    "sizes = [1920, 3840]\n",
    "\n",
    "p_um = 2.9\n",
    "f_mm = 6.0\n",
    "range = ftom(500)\n",
    "velocity = 15.0\n",
    "p_max = 5.0\n",
    "object_size = 0.5\n",
    "\n",
    "camera = Camera(\"cam 2\", sizes, p_um, f_mm, p_max)\n",
    "results = camera.run_analysis(velocity, range, object_size, print_results=True)"
   ]
  },
  {
   "cell_type": "markdown",
   "id": "8f4805f1",
   "metadata": {},
   "source": [
    "#### Results from camera 2\n",
    "This camera is starting to be able to fill our requirements. It would be great if we could have a 4k input stream so that we can have a much wider field of view. Similarly, it would be nice if I had access to the binning data for this sensor so we could really know the true apparent size of the drone in the 1920 image size."
   ]
  },
  {
   "cell_type": "markdown",
   "id": "7f0da7d5",
   "metadata": {},
   "source": [
    "#### Notes about camera 3\n",
    "This is likely the most expensive of the group, estimated to be 200-500$ per unit via basic google searches for the sensor chip that is within the unit.\n",
    "\n",
    "This sensor has a special window cropping mode where we can pick the size of the image we want to take. This lets us take bespoke size images so that we can increase frame rate and not read out the entire image.\n",
    "\n",
    "This sensor also has the highest entire sensor readout rate of any of the 3. The entire 3840x2160 image can be given out at 60FPS for full 12 bit color or 90FPS for reduced 10 bit color. This fills the nice to have requirement learned from the second camera I looked at in this analysis. And is almost overkill as we do not need 12 bit color and also do not need 90FPS at 4k. We would likely be unable to process this data stream as it is, let alone if we double our cameras to decrease our FOV for better tracking."
   ]
  },
  {
   "cell_type": "code",
   "execution_count": 24,
   "id": "6c78a30f",
   "metadata": {},
   "outputs": [
    {
     "name": "stdout",
     "output_type": "stream",
     "text": [
      "Analysis for: cam 3 at 6.0 mm lens\n",
      "             FPS  Exposure Time (ms)   HFOV  Apparent Size (px)\n",
      "Size (px)                                                      \n",
      "3840       50.52                3.96  85.72                6.79\n"
     ]
    }
   ],
   "source": [
    "# camera 3 analysis - datasheet is very limited\n",
    "# https://www.e-consystems.com/nvidia-cameras/jetson-agx-orin-cameras/4k-sony-starvis2-imx585-gmsl-camera.asp\n",
    "sizes = [3840]\n",
    "\n",
    "p_um = 2.9\n",
    "f_mm = 6.0\n",
    "range = ftom(500)\n",
    "velocity = 15.0\n",
    "p_max = 5.0\n",
    "object_size = 0.5\n",
    "\n",
    "camera = Camera(\"cam 3\", sizes, p_um, f_mm, p_max)\n",
    "results = camera.run_analysis(velocity, range, object_size, print_results=True)"
   ]
  },
  {
   "cell_type": "markdown",
   "id": "66a68915",
   "metadata": {},
   "source": [
    "#### Results for camera 3\n",
    "This camera requires more research into the price (pending quote request) and if we can utilize multiple of these cameras at a lower FOV to increase our tracking distance. This is promising and shows that we are able to reach the ideal specs described below and start to run into a new problem: money and compute."
   ]
  },
  {
   "cell_type": "markdown",
   "id": "6908f156",
   "metadata": {},
   "source": [
    "### Ideal camera specs from our current requirements\n",
    "Quick refresher of our current requirements\n",
    "- Maximum inter-frame movement of drone: 5 pixels\n",
    "- Maximum blurring of each frame: ~1px\n",
    "\n",
    "The following code cell is an ideal camera spec sheet that gives us the desired calculations as done above for those requirements. I will attempt to restrict our $FOV_{min}$ to no less than $45$°."
   ]
  },
  {
   "cell_type": "code",
   "execution_count": 25,
   "id": "1e57ae58",
   "metadata": {},
   "outputs": [
    {
     "name": "stdout",
     "output_type": "stream",
     "text": [
      "Analysis for: ideal cam at 6.0 mm lens\n",
      "             FPS  Exposure Time (ms)   HFOV  Apparent Size (px)\n",
      "Size (px)                                                      \n",
      "1920       42.23                4.74  51.28                6.56\n",
      "2560       44.26                4.52  65.24                6.56\n",
      "3480       47.84                4.18  82.05                6.56\n",
      "4208       51.09                3.91  92.90                6.56\n"
     ]
    }
   ],
   "source": [
    "# ideal camera spec simulation\n",
    "p_um = 3.0 # havent seen anything larger than this in my research\n",
    "f_mm = 6.0 # available lens sizes: 2.8, 4, 6, 8, 12, 16\n",
    "\n",
    "range = ftom(500)\n",
    "velocity = 15.0\n",
    "p_max = 5.0\n",
    "object_size = 0.5\n",
    "\n",
    "# image sizes will scale with FPS, smalester sizes have higher FPS\n",
    "sizes = [1920, 2560, 3480, 4208]\n",
    "\n",
    "camera = Camera(\"ideal cam\", sizes, p_um, f_mm, p_max)\n",
    "results = camera.run_analysis(velocity, range, object_size, print_results=True)"
   ]
  },
  {
   "cell_type": "markdown",
   "id": "d93b28b8",
   "metadata": {},
   "source": [
    "### Conclusions - what this means for our cameras and/or requirements\n",
    "\n",
    "We either need to find cameras and lenses that fufill these technical requirements:\n",
    "1. 100+ FPS for small pixel pitch ~$1.0-1.5\\mu m$\n",
    "2. Large pixel pitch ~$3.0 \\mu m$\n",
    "3. Global shutter *(less needed if FPS requirement is lower)*\n",
    "\n",
    "Or we can adjust our requirements to something physically possible within our budget restrictions\n",
    "1. Increasing maximum blur tolerance\n",
    "2. Increasing allowable inter frame motion\n",
    "3. Reducing tracking distance\n",
    "4. Increasing expected drone size\n",
    "5. Decrease expected drone velocity\n",
    "\n"
   ]
  },
  {
   "cell_type": "markdown",
   "id": "a5d603d2",
   "metadata": {},
   "source": [
    "### Analysis with camera 2 and reduced drone constraints\n",
    "\n",
    "The expected lateral velocity of the drone has been halved and the allowed inter frame movement has been doubled, blur requirements stay the same.\n",
    "\n",
    "Analysis for a 4mm, 6mm, and 8mm lens."
   ]
  },
  {
   "cell_type": "code",
   "execution_count": 26,
   "id": "b6762c17",
   "metadata": {},
   "outputs": [
    {
     "name": "stdout",
     "output_type": "stream",
     "text": [
      "Analysis for: reduced constraints cam 2 at 4.0 mm lens\n",
      "            FPS  Exposure Time (ms)    HFOV  Apparent Size (px)\n",
      "Size (px)                                                      \n",
      "1920       7.77               12.87   69.68                4.53\n",
      "3840       9.97               10.03  108.61                4.53\n",
      "Analysis for: reduced constraints cam 2 at 6.0 mm lens\n",
      "             FPS  Exposure Time (ms)   HFOV  Apparent Size (px)\n",
      "Size (px)                                                      \n",
      "1920       10.87                9.20  49.78                6.79\n",
      "3840       12.63                7.92  85.72                6.79\n",
      "Analysis for: reduced constraints cam 2 at 8.0 mm lens\n",
      "             FPS  Exposure Time (ms)   HFOV  Apparent Size (px)\n",
      "Size (px)                                                      \n",
      "1920       14.11                7.09  38.38                9.05\n",
      "3840       15.54                6.44  69.68                9.05\n"
     ]
    }
   ],
   "source": [
    "# supported FPS: 62, 39\n",
    "sizes = [1920, 3840]\n",
    "\n",
    "p_um = 2.9\n",
    "f_mm = 6.0\n",
    "range = ftom(500)\n",
    "velocity = 7.5\n",
    "p_max = 10.0\n",
    "object_size = 0.5\n",
    "\n",
    "lenses = [4.0, 6.0, 8.0]\n",
    "\n",
    "camera = Camera(\"reduced constraints cam 2\", sizes, p_um, f_mm, p_max)\n",
    "for lens in lenses:\n",
    "    camera.f_mm = lens\n",
    "    camera.run_analysis(velocity, range, object_size, print_results=True)\n"
   ]
  },
  {
   "cell_type": "markdown",
   "id": "185cea16",
   "metadata": {},
   "source": [
    "#### Reduced constraints results\n",
    "It is clear that we can certainly push to aim for the worst conditions and still be able to have our cameras at or within their framerate limits. The deciding factor for choosing the limits proposed in the earlier part of this analysis is the focal length of the lens."
   ]
  },
  {
   "cell_type": "markdown",
   "id": "698ba4a3",
   "metadata": {},
   "source": [
    "### Limitations about this analysis\n",
    "Since datasheets do not contain implementation details about how many pixels are used for each frame size, it is difficult to determine how the apparent size of the drone will change with each cameras frame rate and image size intervals. I expect that some sort of cropping or binning will take effect. \n",
    "\n",
    "If a sensor simply crops the image, then the apparent size does not change since the same number of effective pixels are still used to represent a drone. This is equivelant to a lower FOV lens.\n",
    "\n",
    "If a sensor is using [binning](https://en.wikipedia.org/wiki/Pixel_binning), where groups of pixels on the sensor are used to represnt a single larger pixel at lower resolution, the apparent size of the drone will decrease. Sometimes this can cause the signal to noise ratio to increase. This will make it harder for us to run our algorithms on drones that take up fewer pixels, furthering the need for tighter FOV lenses. Most sensors do use this technique at lower resolutions. This analysis did not implement binning as it is hard to find information on this for each camera."
   ]
  },
  {
   "cell_type": "markdown",
   "id": "a08cba1d",
   "metadata": {},
   "source": [
    "### Conclusion\n",
    "\n",
    "Computer vision is definitely possible for this project and quite feasible from the camera technology perspective. The budget limits of this project will definitely be a room for improvement we can show to the client if it comes down to it. We will be pushing the limits of what we can get for our money in relation to frame rates. The biggest lesson learned from this analysis is that larger pixel pitch sensors do a much bettor job at the ranges we are expecting. We are able to rely on lower resolution images to get the frame rates we need.\n",
    "\n",
    "\n",
    "I believe that we still need tighter FOV to get the required apparent size for robust and reliable drone tracking algorithms to work effectively. Ideally we should have an effective size of at least 15-20 px to be able to run tracking. This number is based on some preliminary research into what methods we require to be able to track. Simlalry, Kenji's report seems to lead to a similar conclusion that we need roughly 20 pixels for a 3 degree accuracy for our computer vision system to be accurate enough. The trade off of this is that we require higher frame rates for this to function as intended since the higher the FOV, the more the drone moves between frames.\n",
    "\n",
    "Although this is good news, we run into a new problem. The Nvidia Jetson Orin Nano board will likely not be able to handle running our algorithms over multiple camera data streams at these rates. 4k 50fps is almost not possible, and 1920 at 60fps leaves very little room for actually running our algorithms **and** being able to coordinate with all the other systems, networking, launcher kinematics, etc. We would likely need to upgrade our compute module in order to make this robust CV system work as we want it to. This again means another huge increase in cost for this project. The next step up in compute capacity of the Nvidia Jetson series is the Nvidia Jetson Orin NX board or the older Xavier NX board. "
   ]
  }
 ],
 "metadata": {
  "kernelspec": {
   "display_name": ".srpj",
   "language": "python",
   "name": "python3"
  },
  "language_info": {
   "codemirror_mode": {
    "name": "ipython",
    "version": 3
   },
   "file_extension": ".py",
   "mimetype": "text/x-python",
   "name": "python",
   "nbconvert_exporter": "python",
   "pygments_lexer": "ipython3",
   "version": "3.11.9"
  }
 },
 "nbformat": 4,
 "nbformat_minor": 5
}
